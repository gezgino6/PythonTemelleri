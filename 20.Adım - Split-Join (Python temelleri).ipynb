{
 "cells": [
  {
   "cell_type": "markdown",
   "id": "1a9a54a9",
   "metadata": {},
   "source": [
    "# split()\n",
    "\n",
    "\n",
    "Belirli bir bölme kriterine göre string'in alt parçalarını listenin elemanları olarak dönüştürebiliriz."
   ]
  },
  {
   "cell_type": "code",
   "execution_count": 1,
   "id": "404f22d2",
   "metadata": {},
   "outputs": [],
   "source": [
    "s = \"merhaba nasılsın ?\""
   ]
  },
  {
   "cell_type": "markdown",
   "id": "cb549d6a",
   "metadata": {},
   "source": [
    "split()'in içine neye göre böleceğimizi yazarız."
   ]
  },
  {
   "cell_type": "code",
   "execution_count": 2,
   "id": "62d6a0c1",
   "metadata": {},
   "outputs": [
    {
     "data": {
      "text/plain": [
       "['merhaba', 'nasılsın', '?']"
      ]
     },
     "execution_count": 2,
     "metadata": {},
     "output_type": "execute_result"
    }
   ],
   "source": [
    "s.split(\" \")\n",
    "['merhaba', 'nasılsın', '?']"
   ]
  },
  {
   "cell_type": "markdown",
   "id": "9e51ca9b",
   "metadata": {},
   "source": [
    "hiç bir şey yazmazsak default olarak boşluğa göre böler."
   ]
  },
  {
   "cell_type": "code",
   "execution_count": 3,
   "id": "d1bd6da0",
   "metadata": {},
   "outputs": [
    {
     "data": {
      "text/plain": [
       "['merhaba', 'nasılsın', '?']"
      ]
     },
     "execution_count": 3,
     "metadata": {},
     "output_type": "execute_result"
    }
   ],
   "source": [
    "s.split()"
   ]
  },
  {
   "cell_type": "code",
   "execution_count": 4,
   "id": "a7a48d48",
   "metadata": {},
   "outputs": [],
   "source": [
    "s2 = \"limon,portakal,elma\""
   ]
  },
  {
   "cell_type": "code",
   "execution_count": 5,
   "id": "103aa838",
   "metadata": {},
   "outputs": [
    {
     "data": {
      "text/plain": [
       "['limon,portakal,elma']"
      ]
     },
     "execution_count": 5,
     "metadata": {},
     "output_type": "execute_result"
    }
   ],
   "source": [
    "s2.split()"
   ]
  },
  {
   "cell_type": "code",
   "execution_count": 6,
   "id": "a0a50f9d",
   "metadata": {},
   "outputs": [
    {
     "data": {
      "text/plain": [
       "['limon', 'portakal', 'elma']"
      ]
     },
     "execution_count": 6,
     "metadata": {},
     "output_type": "execute_result"
    }
   ],
   "source": [
    "s2.split(\",\")"
   ]
  },
  {
   "cell_type": "markdown",
   "id": "e6472ad6",
   "metadata": {},
   "source": [
    "# join()\n",
    "\n",
    "\n",
    "listenin elemanları arasına belirtilen yapıyı koyup string'e dönüştürür.\n",
    "\n",
    "\n",
    "\"patern\".join(elemanları kullanılacak liste)\n",
    "\n"
   ]
  },
  {
   "cell_type": "code",
   "execution_count": 7,
   "id": "935c0460",
   "metadata": {},
   "outputs": [],
   "source": [
    "l = ['limon', 'portakal', 'elma']"
   ]
  },
  {
   "cell_type": "code",
   "execution_count": 8,
   "id": "4280775a",
   "metadata": {},
   "outputs": [
    {
     "data": {
      "text/plain": [
       "'limon,portakal,elma'"
      ]
     },
     "execution_count": 8,
     "metadata": {},
     "output_type": "execute_result"
    }
   ],
   "source": [
    "\",\".join(l)"
   ]
  },
  {
   "cell_type": "code",
   "execution_count": 9,
   "id": "78caf8f9",
   "metadata": {},
   "outputs": [],
   "source": [
    "s = \",\".join(l)"
   ]
  },
  {
   "cell_type": "code",
   "execution_count": 10,
   "id": "7dd3f413",
   "metadata": {},
   "outputs": [
    {
     "data": {
      "text/plain": [
       "'limon,portakal,elma'"
      ]
     },
     "execution_count": 10,
     "metadata": {},
     "output_type": "execute_result"
    }
   ],
   "source": [
    "s"
   ]
  },
  {
   "cell_type": "code",
   "execution_count": 11,
   "id": "8758b3d0",
   "metadata": {},
   "outputs": [
    {
     "data": {
      "text/plain": [
       "'limon-portakal-elma'"
      ]
     },
     "execution_count": 11,
     "metadata": {},
     "output_type": "execute_result"
    }
   ],
   "source": [
    "\"-\".join(l)"
   ]
  },
  {
   "cell_type": "code",
   "execution_count": 12,
   "id": "54c2ad66",
   "metadata": {},
   "outputs": [
    {
     "data": {
      "text/plain": [
       "'limon/portakal/elma'"
      ]
     },
     "execution_count": 12,
     "metadata": {},
     "output_type": "execute_result"
    }
   ],
   "source": [
    "\"/\".join(l)"
   ]
  },
  {
   "cell_type": "code",
   "execution_count": 13,
   "id": "6ac1fdc1",
   "metadata": {},
   "outputs": [
    {
     "data": {
      "text/plain": [
       "'limon portakal elma'"
      ]
     },
     "execution_count": 13,
     "metadata": {},
     "output_type": "execute_result"
    }
   ],
   "source": [
    "\" \".join(l)"
   ]
  },
  {
   "cell_type": "code",
   "execution_count": 35,
   "id": "783bd900",
   "metadata": {},
   "outputs": [],
   "source": [
    "l = []\n",
    "mailler = {1 : \"ad1.soyad\" , 2 : \"ad2.soyad\", 3 : \"ad3.soyad\"} \n",
    "for v in mailler.values():\n",
    "    l.append(v)"
   ]
  },
  {
   "cell_type": "code",
   "execution_count": 36,
   "id": "7eb7174f",
   "metadata": {},
   "outputs": [
    {
     "data": {
      "text/plain": [
       "['ad1.soyad', 'ad2.soyad', 'ad3.soyad']"
      ]
     },
     "execution_count": 36,
     "metadata": {},
     "output_type": "execute_result"
    }
   ],
   "source": [
    "l"
   ]
  },
  {
   "cell_type": "code",
   "execution_count": 39,
   "id": "63be4666",
   "metadata": {},
   "outputs": [
    {
     "data": {
      "text/plain": [
       "'ad1.soyad,ad2.soyad,ad3.soyad'"
      ]
     },
     "execution_count": 39,
     "metadata": {},
     "output_type": "execute_result"
    }
   ],
   "source": [
    "\",\".join(l)"
   ]
  },
  {
   "cell_type": "code",
   "execution_count": null,
   "id": "512b6352",
   "metadata": {},
   "outputs": [],
   "source": []
  }
 ],
 "metadata": {
  "kernelspec": {
   "display_name": "Python 3 (ipykernel)",
   "language": "python",
   "name": "python3"
  },
  "language_info": {
   "codemirror_mode": {
    "name": "ipython",
    "version": 3
   },
   "file_extension": ".py",
   "mimetype": "text/x-python",
   "name": "python",
   "nbconvert_exporter": "python",
   "pygments_lexer": "ipython3",
   "version": "3.9.12"
  }
 },
 "nbformat": 4,
 "nbformat_minor": 5
}
