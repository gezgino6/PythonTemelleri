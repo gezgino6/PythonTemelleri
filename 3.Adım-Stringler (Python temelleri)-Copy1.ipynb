{
 "cells": [
  {
   "cell_type": "markdown",
   "id": "a3045f1c",
   "metadata": {},
   "source": [
    "##String\n",
    "\n",
    "\n",
    "Şimdiye kadar sadece sayılar ile uğraştık. Bu notebook'ta yeni bir veri tipine, String'lere bakalım\n",
    "\n",
    "\n",
    "Stringler karakterlerden oluşan bir dizidir aslında. Stringlerin elemanları karakterlerdir.\n",
    "\n",
    "\n",
    "Karakterler: (a,b,c,d...) gibi harfler, (*, ?, =, <, >, /...) gibi özel karakterler, (1,2,3...) gibi yazı biçiminde sayılar, boşluk(space) karakter olarak adlandırılabilir.\n",
    "\n",
    "\n",
    "String'ler Karakterlerden veya bunların kombinasyonlarından oluşabilirler.\n",
    "\n",
    "\n",
    "Bir şeyin String olduğunu belirtmek için yazacaklarımızı ikili tırnak (\"örnek\") veya tekli tırnak ('örnek') içine yazarız.\n",
    "\n",
    "\n",
    "Tırnak işaretlerinin yaptığı şey aslında: Bu tırnak işaretlerinin içinde verdiğim diziye karakterler dizisi olarak davran, öyle algıla demek.\n",
    "\n",
    "\n",
    "İkili tırnak içine de yazsak, tekli tırnak içine de yazsak aynı şekilde algılanır. Önemli olan hangisiyle başladıysak onunla bitirmek.\n",
    "\n",
    "\n",
    "Scalar ve Non-scalar objelerden bahsetmiştik. Non-scalar veri tiplerinin daha alt parçalara bölünebilen, elemanlar içeren yapılar olduğunu konuşmuştuk. String non-scalar bir veri tipi. İçsel yapı olarak karakterlerden oluşuyor.\n",
    "\n",
    "\n",
    "Stringler immutable veri tipidir.\n",
    "\n",
    "\n",
    "Immutable: Elemanlarının değerleri değiştirilemez."
   ]
  },
  {
   "cell_type": "code",
   "execution_count": 1,
   "id": "40cec9d9",
   "metadata": {},
   "outputs": [
    {
     "data": {
      "text/plain": [
       "'a'"
      ]
     },
     "execution_count": 1,
     "metadata": {},
     "output_type": "execute_result"
    }
   ],
   "source": [
    "\"a\""
   ]
  },
  {
   "cell_type": "code",
   "execution_count": 2,
   "id": "0ebb88ee",
   "metadata": {},
   "outputs": [
    {
     "data": {
      "text/plain": [
       "'5+10'"
      ]
     },
     "execution_count": 2,
     "metadata": {},
     "output_type": "execute_result"
    }
   ],
   "source": [
    "\"5+10\""
   ]
  },
  {
   "cell_type": "code",
   "execution_count": 3,
   "id": "98290fc3",
   "metadata": {},
   "outputs": [
    {
     "data": {
      "text/plain": [
       "'bugün 5 top dondurma yedim'"
      ]
     },
     "execution_count": 3,
     "metadata": {},
     "output_type": "execute_result"
    }
   ],
   "source": [
    "\"bugün 5 top dondurma yedim\""
   ]
  },
  {
   "cell_type": "code",
   "execution_count": 4,
   "id": "bea43674",
   "metadata": {},
   "outputs": [
    {
     "data": {
      "text/plain": [
       "str"
      ]
     },
     "execution_count": 4,
     "metadata": {},
     "output_type": "execute_result"
    }
   ],
   "source": [
    "type(\"hmm o zaman x=5 diyebilir myiz\")"
   ]
  },
  {
   "cell_type": "code",
   "execution_count": 5,
   "id": "88e435c2",
   "metadata": {},
   "outputs": [
    {
     "data": {
      "text/plain": [
       "str"
      ]
     },
     "execution_count": 5,
     "metadata": {},
     "output_type": "execute_result"
    }
   ],
   "source": [
    "type(\"5+10\")"
   ]
  },
  {
   "cell_type": "code",
   "execution_count": 6,
   "id": "a314d8c3",
   "metadata": {},
   "outputs": [
    {
     "data": {
      "text/plain": [
       "\"bugün kadıköye'e gidiyorum\""
      ]
     },
     "execution_count": 6,
     "metadata": {},
     "output_type": "execute_result"
    }
   ],
   "source": [
    "\"bugün kadıköye'e gidiyorum\""
   ]
  },
  {
   "cell_type": "code",
   "execution_count": 7,
   "id": "e313bce7",
   "metadata": {},
   "outputs": [
    {
     "data": {
      "text/plain": [
       "\"Bugün Mecidiyeköy'den Mecidiyeköy'\\\\e 40 dakikada gittim.\""
      ]
     },
     "execution_count": 7,
     "metadata": {},
     "output_type": "execute_result"
    }
   ],
   "source": [
    "\"Bugün Mecidiyeköy'den Mecidiyeköy'\\e 40 dakikada gittim.\" "
   ]
  },
  {
   "cell_type": "markdown",
   "id": "d1f8ea64",
   "metadata": {},
   "source": [
    "Escape Sequence"
   ]
  },
  {
   "cell_type": "code",
   "execution_count": 8,
   "id": "b1d3cc7f",
   "metadata": {},
   "outputs": [
    {
     "data": {
      "text/plain": [
       "'bana\"bugün ne yapıyorsundedi\"dedi'"
      ]
     },
     "execution_count": 8,
     "metadata": {},
     "output_type": "execute_result"
    }
   ],
   "source": [
    "\"bana\\\"bugün ne yapıyorsundedi\\\"dedi\""
   ]
  },
  {
   "cell_type": "code",
   "execution_count": 9,
   "id": "b2531fca",
   "metadata": {},
   "outputs": [
    {
     "data": {
      "text/plain": [
       "\"bugün kadıköy'e gidiyorum\""
      ]
     },
     "execution_count": 9,
     "metadata": {},
     "output_type": "execute_result"
    }
   ],
   "source": [
    "'bugün kadıköy\\'e gidiyorum'"
   ]
  },
  {
   "cell_type": "code",
   "execution_count": 10,
   "id": "1be36c8b",
   "metadata": {},
   "outputs": [
    {
     "data": {
      "text/plain": [
       "'56'"
      ]
     },
     "execution_count": 10,
     "metadata": {},
     "output_type": "execute_result"
    }
   ],
   "source": [
    "\"5\"+\"6\""
   ]
  },
  {
   "cell_type": "code",
   "execution_count": 11,
   "id": "b1513d28",
   "metadata": {},
   "outputs": [
    {
     "data": {
      "text/plain": [
       "'ab'"
      ]
     },
     "execution_count": 11,
     "metadata": {},
     "output_type": "execute_result"
    }
   ],
   "source": [
    "\"a\"+\"b\""
   ]
  },
  {
   "cell_type": "code",
   "execution_count": null,
   "id": "88f8ad30",
   "metadata": {},
   "outputs": [],
   "source": []
  }
 ],
 "metadata": {
  "kernelspec": {
   "display_name": "Python 3 (ipykernel)",
   "language": "python",
   "name": "python3"
  },
  "language_info": {
   "codemirror_mode": {
    "name": "ipython",
    "version": 3
   },
   "file_extension": ".py",
   "mimetype": "text/x-python",
   "name": "python",
   "nbconvert_exporter": "python",
   "pygments_lexer": "ipython3",
   "version": "3.9.12"
  }
 },
 "nbformat": 4,
 "nbformat_minor": 5
}
