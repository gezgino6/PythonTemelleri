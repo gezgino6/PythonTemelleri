{
 "cells": [
  {
   "cell_type": "markdown",
   "id": "02e80e0d",
   "metadata": {},
   "source": [
    "## Indexing (Elemanlara Erişme)\n",
    "\n",
    "\n",
    "Stringlerin non-scalar veri tiplerine örnek olduğunu konuşmuştuk. Stringler elemanları karakter olan, alt birim olarak karakterler içeren bir veri tipi.\n",
    "\n",
    "\n",
    "Stringler karakterler dizisi olduğu için, bu dizideki spesifik konumdaki elemanlara erişmek isteyebiliriz. Mesela string'in ilk karakteri nedir gibi.\n",
    "\n",
    "\n",
    "Bir yapının alt elemanına erişmek için yapacağımız işleme indexing deniyor. Bunu köşeli parantez [] ile sağlayacağız.\n",
    "\n",
    "\n",
    "isim diye bir değişken oluşturup, string'e eşitleyip, ilk elemanına(karakterine) erişelim."
   ]
  },
  {
   "cell_type": "code",
   "execution_count": 7,
   "id": "a082bbe8",
   "metadata": {},
   "outputs": [],
   "source": [
    "isim = \"Deniz\""
   ]
  },
  {
   "cell_type": "code",
   "execution_count": 8,
   "id": "e379213f",
   "metadata": {},
   "outputs": [
    {
     "data": {
      "text/plain": [
       "'e'"
      ]
     },
     "execution_count": 8,
     "metadata": {},
     "output_type": "execute_result"
    }
   ],
   "source": [
    "isim[1]"
   ]
  },
  {
   "cell_type": "code",
   "execution_count": 9,
   "id": "6bb3aa8d",
   "metadata": {},
   "outputs": [
    {
     "data": {
      "text/plain": [
       "'D'"
      ]
     },
     "execution_count": 9,
     "metadata": {},
     "output_type": "execute_result"
    }
   ],
   "source": [
    "isim[0]"
   ]
  },
  {
   "cell_type": "code",
   "execution_count": 10,
   "id": "cde9e305",
   "metadata": {},
   "outputs": [
    {
     "data": {
      "text/plain": [
       "'n'"
      ]
     },
     "execution_count": 10,
     "metadata": {},
     "output_type": "execute_result"
    }
   ],
   "source": [
    "isim[2]"
   ]
  },
  {
   "cell_type": "markdown",
   "id": "f3a2ae2a",
   "metadata": {},
   "source": [
    "Son elemanı elde etmek için [-1] yazabiliriz."
   ]
  },
  {
   "cell_type": "code",
   "execution_count": 11,
   "id": "a850518c",
   "metadata": {},
   "outputs": [
    {
     "data": {
      "text/plain": [
       "'z'"
      ]
     },
     "execution_count": 11,
     "metadata": {},
     "output_type": "execute_result"
    }
   ],
   "source": [
    "isim[-1]"
   ]
  },
  {
   "cell_type": "code",
   "execution_count": 13,
   "id": "d48a61f2",
   "metadata": {},
   "outputs": [
    {
     "data": {
      "text/plain": [
       "5"
      ]
     },
     "execution_count": 13,
     "metadata": {},
     "output_type": "execute_result"
    }
   ],
   "source": [
    "len(isim)"
   ]
  },
  {
   "cell_type": "code",
   "execution_count": 14,
   "id": "bc8011a6",
   "metadata": {},
   "outputs": [],
   "source": [
    "ornek = \"merhaba\""
   ]
  },
  {
   "cell_type": "code",
   "execution_count": 15,
   "id": "424adb74",
   "metadata": {},
   "outputs": [
    {
     "data": {
      "text/plain": [
       "'erhaba'"
      ]
     },
     "execution_count": 15,
     "metadata": {},
     "output_type": "execute_result"
    }
   ],
   "source": [
    "ornek[1:10]"
   ]
  },
  {
   "cell_type": "markdown",
   "id": "4e9f7c5f",
   "metadata": {},
   "source": [
    "Stringlerin elemanlarının değiştirilemez olduğundan bahsetmiştik (immutable). O yüzden şöyle şeyler yapamayız: (elemanlarını değiştirebildiğimiz non-scalar veri tiplerini de göreceğiz)"
   ]
  },
  {
   "cell_type": "markdown",
   "id": "5c4a258b",
   "metadata": {},
   "source": [
    "isim[0] =\"B\" olmaz"
   ]
  },
  {
   "cell_type": "markdown",
   "id": "e2867f9c",
   "metadata": {},
   "source": [
    "## Slicing (Dilimleme)\n",
    "\n",
    "\n",
    "Indexing ile sonuç olarak sadece bir eleman elde ettik. Ama birkaç tanesini arka arkaya, bir öbek olarak istiyorsam ne yapardım?\n",
    "\n",
    "\n",
    "Diyelim ki ilk elemandan başlayarak 3. elemana kadar olan karakterleri elde etmek istiyorum (0. indexten 3. indexe kadar olanları)"
   ]
  },
  {
   "cell_type": "code",
   "execution_count": 17,
   "id": "e28d1c3d",
   "metadata": {},
   "outputs": [
    {
     "data": {
      "text/plain": [
       "'Den'"
      ]
     },
     "execution_count": 17,
     "metadata": {},
     "output_type": "execute_result"
    }
   ],
   "source": [
    "isim[:3]"
   ]
  },
  {
   "cell_type": "code",
   "execution_count": 18,
   "id": "7c4ba759",
   "metadata": {},
   "outputs": [
    {
     "data": {
      "text/plain": [
       "'en'"
      ]
     },
     "execution_count": 18,
     "metadata": {},
     "output_type": "execute_result"
    }
   ],
   "source": [
    "isim[1:3]"
   ]
  },
  {
   "cell_type": "code",
   "execution_count": 19,
   "id": "beec37ac",
   "metadata": {},
   "outputs": [
    {
     "data": {
      "text/plain": [
       "'Deniz'"
      ]
     },
     "execution_count": 19,
     "metadata": {},
     "output_type": "execute_result"
    }
   ],
   "source": [
    "isim[0:]"
   ]
  },
  {
   "cell_type": "code",
   "execution_count": 20,
   "id": "be68d8e7",
   "metadata": {},
   "outputs": [
    {
     "data": {
      "text/plain": [
       "'Deniz'"
      ]
     },
     "execution_count": 20,
     "metadata": {},
     "output_type": "execute_result"
    }
   ],
   "source": [
    "isim[0:20]"
   ]
  },
  {
   "cell_type": "code",
   "execution_count": 21,
   "id": "c5443baf",
   "metadata": {},
   "outputs": [
    {
     "data": {
      "text/plain": [
       "'Dnz'"
      ]
     },
     "execution_count": 21,
     "metadata": {},
     "output_type": "execute_result"
    }
   ],
   "source": [
    "isim[0:10:2]"
   ]
  },
  {
   "cell_type": "code",
   "execution_count": 22,
   "id": "0982c736",
   "metadata": {},
   "outputs": [
    {
     "data": {
      "text/plain": [
       "'Dn'"
      ]
     },
     "execution_count": 22,
     "metadata": {},
     "output_type": "execute_result"
    }
   ],
   "source": [
    "isim[0:3:2]"
   ]
  },
  {
   "cell_type": "markdown",
   "id": "c2ea1c64",
   "metadata": {},
   "source": [
    "başlangıç:bitiş olarak veriyoruz ve bitiş olarak verdiğimiz index dahil olmuyor. Başlangıcı belirtmezsek Python default olarak başlangıç değerini 0 alıyor."
   ]
  },
  {
   "cell_type": "markdown",
   "id": "01cceced",
   "metadata": {},
   "source": [
    "başlangıç:bitiş olarak slicing yapabileceğimiz gibi, başlangıç:bitiş:adım formunda da slicing yapabiliriz. Burada adım parametresi kaçar kaçar gideceğimizi belirler."
   ]
  },
  {
   "cell_type": "code",
   "execution_count": 23,
   "id": "a7a33955",
   "metadata": {},
   "outputs": [
    {
     "data": {
      "text/plain": [
       "'zineD'"
      ]
     },
     "execution_count": 23,
     "metadata": {},
     "output_type": "execute_result"
    }
   ],
   "source": [
    "isim[::-1]"
   ]
  },
  {
   "cell_type": "code",
   "execution_count": 24,
   "id": "33f85b7a",
   "metadata": {},
   "outputs": [
    {
     "data": {
      "text/plain": [
       "'zineD'"
      ]
     },
     "execution_count": 24,
     "metadata": {},
     "output_type": "execute_result"
    }
   ],
   "source": [
    "isim[10::-1]"
   ]
  },
  {
   "cell_type": "code",
   "execution_count": 25,
   "id": "a036e0af",
   "metadata": {},
   "outputs": [
    {
     "data": {
      "text/plain": [
       "'znD'"
      ]
     },
     "execution_count": 25,
     "metadata": {},
     "output_type": "execute_result"
    }
   ],
   "source": [
    "isim[::-2]"
   ]
  },
  {
   "cell_type": "markdown",
   "id": "a3929d9d",
   "metadata": {},
   "source": [
    "Adım eksi bir değer de olabilir. Böylece ters yönce gitmiş oluruz. Ama başlangıç değerinin bitiş değerinden büyük olması lazım bunu yapabilmem için."
   ]
  },
  {
   "cell_type": "markdown",
   "id": "24e257db",
   "metadata": {},
   "source": [
    "## Stringlerde Casting"
   ]
  },
  {
   "cell_type": "code",
   "execution_count": 26,
   "id": "9a90b9c8",
   "metadata": {},
   "outputs": [],
   "source": [
    "a =\"5\""
   ]
  },
  {
   "cell_type": "code",
   "execution_count": 27,
   "id": "cb69d873",
   "metadata": {},
   "outputs": [],
   "source": [
    "b = \"5.3\""
   ]
  },
  {
   "cell_type": "code",
   "execution_count": 28,
   "id": "751c57cc",
   "metadata": {},
   "outputs": [
    {
     "data": {
      "text/plain": [
       "5"
      ]
     },
     "execution_count": 28,
     "metadata": {},
     "output_type": "execute_result"
    }
   ],
   "source": [
    "int(a)"
   ]
  },
  {
   "cell_type": "code",
   "execution_count": 30,
   "id": "53df648f",
   "metadata": {},
   "outputs": [],
   "source": [
    "## int(b) olmuyor"
   ]
  },
  {
   "cell_type": "code",
   "execution_count": 31,
   "id": "d2a5fb1b",
   "metadata": {},
   "outputs": [
    {
     "data": {
      "text/plain": [
       "5.3"
      ]
     },
     "execution_count": 31,
     "metadata": {},
     "output_type": "execute_result"
    }
   ],
   "source": [
    "float(b)"
   ]
  },
  {
   "cell_type": "code",
   "execution_count": 32,
   "id": "94370ad2",
   "metadata": {},
   "outputs": [
    {
     "data": {
      "text/plain": [
       "5"
      ]
     },
     "execution_count": 32,
     "metadata": {},
     "output_type": "execute_result"
    }
   ],
   "source": [
    "int(float(b))"
   ]
  },
  {
   "cell_type": "code",
   "execution_count": null,
   "id": "b05a2e18",
   "metadata": {},
   "outputs": [],
   "source": []
  }
 ],
 "metadata": {
  "kernelspec": {
   "display_name": "Python 3 (ipykernel)",
   "language": "python",
   "name": "python3"
  },
  "language_info": {
   "codemirror_mode": {
    "name": "ipython",
    "version": 3
   },
   "file_extension": ".py",
   "mimetype": "text/x-python",
   "name": "python",
   "nbconvert_exporter": "python",
   "pygments_lexer": "ipython3",
   "version": "3.9.12"
  }
 },
 "nbformat": 4,
 "nbformat_minor": 5
}
