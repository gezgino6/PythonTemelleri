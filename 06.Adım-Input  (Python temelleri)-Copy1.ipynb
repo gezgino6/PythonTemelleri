{
 "cells": [
  {
   "cell_type": "markdown",
   "id": "76f64bd6",
   "metadata": {},
   "source": [
    "## Input\n",
    "\n",
    "\n",
    "Bazen kullanacağımız değeri kullanıcıdan almak isteyebiliriz. Bunu input metodu ile yapacağız.\n",
    "\n",
    "\n",
    "input'un içinde yazacağımız bize kullanıcıya gösterilecek yazıyı verecek, kullanıcıdan girdi bekleyip enter'a basmasını bekleyecek, ve girdiyi string olarak döndürecek."
   ]
  },
  {
   "cell_type": "code",
   "execution_count": 3,
   "id": "65fb1399",
   "metadata": {},
   "outputs": [
    {
     "name": "stdout",
     "output_type": "stream",
     "text": [
      " bir sayı girin10\n"
     ]
    }
   ],
   "source": [
    "x = input(\" bir sayı girin\")"
   ]
  },
  {
   "cell_type": "code",
   "execution_count": 4,
   "id": "c0e88a3b",
   "metadata": {},
   "outputs": [
    {
     "ename": "TypeError",
     "evalue": "can only concatenate str (not \"int\") to str",
     "output_type": "error",
     "traceback": [
      "\u001b[1;31m---------------------------------------------------------------------------\u001b[0m",
      "\u001b[1;31mTypeError\u001b[0m                                 Traceback (most recent call last)",
      "Input \u001b[1;32mIn [4]\u001b[0m, in \u001b[0;36m<cell line: 1>\u001b[1;34m()\u001b[0m\n\u001b[1;32m----> 1\u001b[0m \u001b[43mx\u001b[49m\u001b[43m \u001b[49m\u001b[38;5;241;43m+\u001b[39;49m\u001b[43m \u001b[49m\u001b[38;5;241;43m10\u001b[39;49m\n",
      "\u001b[1;31mTypeError\u001b[0m: can only concatenate str (not \"int\") to str"
     ]
    }
   ],
   "source": [
    "x + 10"
   ]
  },
  {
   "cell_type": "code",
   "execution_count": 5,
   "id": "263f394e",
   "metadata": {},
   "outputs": [
    {
     "data": {
      "text/plain": [
       "str"
      ]
     },
     "execution_count": 5,
     "metadata": {},
     "output_type": "execute_result"
    }
   ],
   "source": [
    "type(x)"
   ]
  },
  {
   "cell_type": "code",
   "execution_count": 6,
   "id": "bc018a1e",
   "metadata": {},
   "outputs": [
    {
     "data": {
      "text/plain": [
       "20"
      ]
     },
     "execution_count": 6,
     "metadata": {},
     "output_type": "execute_result"
    }
   ],
   "source": [
    "int(x)+10"
   ]
  },
  {
   "cell_type": "code",
   "execution_count": 9,
   "id": "3ecc393b",
   "metadata": {},
   "outputs": [
    {
     "name": "stdout",
     "output_type": "stream",
     "text": [
      "isim girinmerhaba\n"
     ]
    }
   ],
   "source": [
    "mesaj = input(\"isim girin\")"
   ]
  },
  {
   "cell_type": "code",
   "execution_count": 10,
   "id": "c3135450",
   "metadata": {},
   "outputs": [
    {
     "name": "stdout",
     "output_type": "stream",
     "text": [
      "isim girinatakan\n"
     ]
    }
   ],
   "source": [
    "isim = input(\"isim girin\")"
   ]
  },
  {
   "cell_type": "code",
   "execution_count": 12,
   "id": "089421e2",
   "metadata": {},
   "outputs": [
    {
     "data": {
      "text/plain": [
       "'merhaba atakan'"
      ]
     },
     "execution_count": 12,
     "metadata": {},
     "output_type": "execute_result"
    }
   ],
   "source": [
    "mesaj+\" \"+isim"
   ]
  },
  {
   "cell_type": "code",
   "execution_count": 22,
   "id": "6f9bced6",
   "metadata": {},
   "outputs": [
    {
     "name": "stdout",
     "output_type": "stream",
     "text": [
      "Ondalık bir sayı giriniz:0.25\n"
     ]
    }
   ],
   "source": [
    "x=float(input(\"Ondalık bir sayı giriniz:\"))"
   ]
  },
  {
   "cell_type": "code",
   "execution_count": 23,
   "id": "04b2b8d6",
   "metadata": {},
   "outputs": [],
   "source": [
    "sonuc=x*4"
   ]
  },
  {
   "cell_type": "code",
   "execution_count": 24,
   "id": "10fb1e37",
   "metadata": {},
   "outputs": [
    {
     "name": "stdout",
     "output_type": "stream",
     "text": [
      "1.0\n"
     ]
    }
   ],
   "source": [
    "print(sonuc)"
   ]
  },
  {
   "cell_type": "code",
   "execution_count": null,
   "id": "41005d1f",
   "metadata": {},
   "outputs": [],
   "source": []
  }
 ],
 "metadata": {
  "kernelspec": {
   "display_name": "Python 3 (ipykernel)",
   "language": "python",
   "name": "python3"
  },
  "language_info": {
   "codemirror_mode": {
    "name": "ipython",
    "version": 3
   },
   "file_extension": ".py",
   "mimetype": "text/x-python",
   "name": "python",
   "nbconvert_exporter": "python",
   "pygments_lexer": "ipython3",
   "version": "3.9.12"
  }
 },
 "nbformat": 4,
 "nbformat_minor": 5
}
