{
 "cells": [
  {
   "cell_type": "code",
   "execution_count": 44,
   "id": "6a960dcb",
   "metadata": {},
   "outputs": [],
   "source": [
    "a = 7.9+3"
   ]
  },
  {
   "cell_type": "code",
   "execution_count": 45,
   "id": "61f9664b",
   "metadata": {},
   "outputs": [
    {
     "data": {
      "text/plain": [
       "10.9"
      ]
     },
     "execution_count": 45,
     "metadata": {},
     "output_type": "execute_result"
    }
   ],
   "source": [
    "a"
   ]
  },
  {
   "cell_type": "code",
   "execution_count": 46,
   "id": "f7fb6c0b",
   "metadata": {},
   "outputs": [],
   "source": [
    "a =2 "
   ]
  },
  {
   "cell_type": "code",
   "execution_count": 47,
   "id": "dcebfa79",
   "metadata": {},
   "outputs": [],
   "source": [
    "b = a+5"
   ]
  },
  {
   "cell_type": "code",
   "execution_count": 48,
   "id": "91d7ae63",
   "metadata": {},
   "outputs": [],
   "source": [
    "a = a + 3"
   ]
  },
  {
   "cell_type": "code",
   "execution_count": 49,
   "id": "797778bc",
   "metadata": {},
   "outputs": [
    {
     "data": {
      "text/plain": [
       "5"
      ]
     },
     "execution_count": 49,
     "metadata": {},
     "output_type": "execute_result"
    }
   ],
   "source": [
    "a"
   ]
  },
  {
   "cell_type": "code",
   "execution_count": 50,
   "id": "2942893c",
   "metadata": {},
   "outputs": [
    {
     "data": {
      "text/plain": [
       "12"
      ]
     },
     "execution_count": 50,
     "metadata": {},
     "output_type": "execute_result"
    }
   ],
   "source": [
    "a+b"
   ]
  },
  {
   "cell_type": "code",
   "execution_count": 51,
   "id": "54252580",
   "metadata": {},
   "outputs": [],
   "source": [
    "limon_fiyat = 20"
   ]
  },
  {
   "cell_type": "code",
   "execution_count": 52,
   "id": "54414e7e",
   "metadata": {},
   "outputs": [],
   "source": [
    "s1 = limon_fiyat*100"
   ]
  },
  {
   "cell_type": "code",
   "execution_count": 53,
   "id": "8892379b",
   "metadata": {},
   "outputs": [],
   "source": [
    "s2= limon_fiyat*70"
   ]
  },
  {
   "cell_type": "code",
   "execution_count": 54,
   "id": "b516a404",
   "metadata": {},
   "outputs": [],
   "source": [
    "s3 = limon_fiyat*30"
   ]
  },
  {
   "cell_type": "code",
   "execution_count": 55,
   "id": "88e1e82d",
   "metadata": {},
   "outputs": [
    {
     "name": "stdout",
     "output_type": "stream",
     "text": [
      "2000\n"
     ]
    }
   ],
   "source": [
    "print(s1)"
   ]
  },
  {
   "cell_type": "code",
   "execution_count": 56,
   "id": "5fbc74f3",
   "metadata": {},
   "outputs": [
    {
     "name": "stdout",
     "output_type": "stream",
     "text": [
      "1400\n"
     ]
    }
   ],
   "source": [
    "print(s2)"
   ]
  },
  {
   "cell_type": "code",
   "execution_count": 57,
   "id": "00497c7a",
   "metadata": {},
   "outputs": [
    {
     "name": "stdout",
     "output_type": "stream",
     "text": [
      "600\n"
     ]
    }
   ],
   "source": [
    "print(s3)"
   ]
  },
  {
   "cell_type": "code",
   "execution_count": null,
   "id": "93142f0a",
   "metadata": {},
   "outputs": [],
   "source": []
  }
 ],
 "metadata": {
  "kernelspec": {
   "display_name": "Python 3 (ipykernel)",
   "language": "python",
   "name": "python3"
  },
  "language_info": {
   "codemirror_mode": {
    "name": "ipython",
    "version": 3
   },
   "file_extension": ".py",
   "mimetype": "text/x-python",
   "name": "python",
   "nbconvert_exporter": "python",
   "pygments_lexer": "ipython3",
   "version": "3.9.12"
  }
 },
 "nbformat": 4,
 "nbformat_minor": 5
}
