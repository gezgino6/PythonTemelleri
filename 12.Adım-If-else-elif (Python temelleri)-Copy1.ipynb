{
 "cells": [
  {
   "cell_type": "markdown",
   "id": "53b9d97d",
   "metadata": {},
   "source": [
    "## Programı Dallandırma (Branching)\n",
    "\n",
    "\n",
    "İfadelerin değerlerinin True veya False olduklarını veren karşılaştırmalara ve mantıksal operatörlere bakmıştık.\n",
    "\n",
    "\n",
    "Şimdi bunların sonuçlarına göre programımızı dallandırmaya bakacağız.\n",
    "\n",
    "## if\n",
    "Eğer testimin değeri True ise if bloğunun içinde yazanı yapacağız.\n",
    "\n",
    "\n",
    "Yapılacakların if bloğuna ait olduğunu anlatmak için kodu if in içine yazarız. Python'ın o bloğun içinde olduğumuzu anlaması için boşluk bırakmamız gerekir."
   ]
  },
  {
   "cell_type": "code",
   "execution_count": 16,
   "id": "7d6bd4a9",
   "metadata": {},
   "outputs": [
    {
     "data": {
      "text/plain": [
       "1"
      ]
     },
     "execution_count": 16,
     "metadata": {},
     "output_type": "execute_result"
    }
   ],
   "source": [
    "3%2"
   ]
  },
  {
   "cell_type": "code",
   "execution_count": 17,
   "id": "30504100",
   "metadata": {},
   "outputs": [
    {
     "data": {
      "text/plain": [
       "0"
      ]
     },
     "execution_count": 17,
     "metadata": {},
     "output_type": "execute_result"
    }
   ],
   "source": [
    "6%2"
   ]
  },
  {
   "cell_type": "code",
   "execution_count": 18,
   "id": "665ffed7",
   "metadata": {},
   "outputs": [
    {
     "data": {
      "text/plain": [
       "True"
      ]
     },
     "execution_count": 18,
     "metadata": {},
     "output_type": "execute_result"
    }
   ],
   "source": [
    "6 % 2 == 0"
   ]
  },
  {
   "cell_type": "code",
   "execution_count": 19,
   "id": "7455b533",
   "metadata": {},
   "outputs": [
    {
     "name": "stdout",
     "output_type": "stream",
     "text": [
      "bir sayı girin:2\n",
      "sayınız çift sayı\n",
      "programınız sona ulaştı\n"
     ]
    }
   ],
   "source": [
    "x = int(input(\"bir sayı girin:\"))\n",
    "if x % 2 == 0 :\n",
    "    print(\"sayınız çift sayı\")\n",
    "    \n",
    "print(\"programınız sona ulaştı\")"
   ]
  },
  {
   "cell_type": "code",
   "execution_count": 20,
   "id": "d7c2a951",
   "metadata": {},
   "outputs": [
    {
     "name": "stdout",
     "output_type": "stream",
     "text": [
      "bir sayı girin:3\n",
      "programınız sona ulaştı\n"
     ]
    }
   ],
   "source": [
    "x = int(input(\"bir sayı girin:\"))\n",
    "if x % 2 == 0 :\n",
    "    print(\"sayınız çift sayı\")\n",
    "    \n",
    "print(\"programınız sona ulaştı\")"
   ]
  },
  {
   "cell_type": "markdown",
   "id": "b6807409",
   "metadata": {},
   "source": [
    "## else\n",
    "if ile kontrolümüz (veya elseif-elif) False sonucu döndürülürse yapılacak blok:"
   ]
  },
  {
   "cell_type": "code",
   "execution_count": 21,
   "id": "75530706",
   "metadata": {},
   "outputs": [
    {
     "name": "stdout",
     "output_type": "stream",
     "text": [
      "bir sayı girin:2\n",
      "sayınız çift sayı\n",
      "işlem sonlandı\n"
     ]
    }
   ],
   "source": [
    "x = int(input(\"bir sayı girin:\"))\n",
    "if x % 2 == 0 :\n",
    "    print(\"sayınız çift sayı\")\n",
    "else :\n",
    "    print(\"sayınız tek sayı\")\n",
    "    \n",
    "print(\"işlem sonlandı\")"
   ]
  },
  {
   "cell_type": "markdown",
   "id": "4bf53f9d",
   "metadata": {},
   "source": [
    "## elif\n",
    "elif if ile yaptığımız teste ek olarak başka testler yapmak istiyorsak kullanılır."
   ]
  },
  {
   "cell_type": "code",
   "execution_count": 22,
   "id": "4aafbc28",
   "metadata": {},
   "outputs": [
    {
     "name": "stdout",
     "output_type": "stream",
     "text": [
      "bir sayı girin:11\n",
      "sayı 10'dan büyük\n",
      "programınız sona ulaştı\n"
     ]
    }
   ],
   "source": [
    "x = int(input(\"bir sayı girin:\"))\n",
    "if x > 10 :\n",
    "    print(\"sayı 10'dan büyük\")\n",
    "    \n",
    "elif x == 10 :\n",
    "    print(\"sayı 10'a eşit\")\n",
    "    \n",
    "else :\n",
    "    print(\"sayı 10'dan küçük\") \n",
    "    \n",
    "print(\"programınız sona ulaştı\")"
   ]
  },
  {
   "cell_type": "code",
   "execution_count": 25,
   "id": "7959f6c2",
   "metadata": {},
   "outputs": [
    {
     "name": "stdout",
     "output_type": "stream",
     "text": [
      "bir sayı girin:9\n",
      "sayı 10'dan küçük\n",
      "programınız sona ulaştı\n"
     ]
    }
   ],
   "source": [
    "x = int(input(\"bir sayı girin:\"))\n",
    "if x > 10 :\n",
    "    print(\"sayı 10'dan büyük\")\n",
    "    \n",
    "elif x == 10 :\n",
    "    print(\"sayı 10'a eşit\")\n",
    "    \n",
    "else :\n",
    "    print(\"sayı 10'dan küçük\")\n",
    "    \n",
    "print(\"programınız sona ulaştı\")"
   ]
  },
  {
   "cell_type": "code",
   "execution_count": 26,
   "id": "c61c6054",
   "metadata": {},
   "outputs": [
    {
     "name": "stdout",
     "output_type": "stream",
     "text": [
      "bir sayı girin:10\n",
      "sayı 10'a eşit\n",
      "programınız sona ulaştı\n"
     ]
    }
   ],
   "source": [
    "x = int(input(\"bir sayı girin:\"))\n",
    "if x > 10 :\n",
    "    print(\"sayı 10'dan büyük\")\n",
    "    \n",
    "elif x == 10 :\n",
    "    print(\"sayı 10'a eşit\")\n",
    "    \n",
    "else :\n",
    "    print(\"sayı 10'dan küçük\")\n",
    "    \n",
    "print(\"programınız sona ulaştı\")"
   ]
  },
  {
   "cell_type": "code",
   "execution_count": 27,
   "id": "21e91efb",
   "metadata": {},
   "outputs": [
    {
     "name": "stdout",
     "output_type": "stream",
     "text": [
      "0 ile 100 arasında bir sayı girin: 95\n",
      "Sayı 90 ile 100 arasında\n",
      "Programınız sona ulaştı\n"
     ]
    }
   ],
   "source": [
    "x = int(input(\"0 ile 100 arasında bir sayı girin: \"))\n",
    "\n",
    "if x == 100:\n",
    "    print(\"Sayı 100\")\n",
    "\n",
    "elif x >= 90:\n",
    "    print(\"Sayı 90 ile 100 arasında\")\n",
    "\n",
    "elif x >= 80:\n",
    "    print(\"Sayı 80 ile 90 arasında\")\n",
    "    \n",
    "else:\n",
    "    print(\"Sayı 80'den küçük\")\n",
    "    \n",
    "print(\"Programınız sona ulaştı\")"
   ]
  },
  {
   "cell_type": "code",
   "execution_count": 28,
   "id": "165105fe",
   "metadata": {},
   "outputs": [
    {
     "name": "stdout",
     "output_type": "stream",
     "text": [
      "0 ile 100 arasında bir sayı girin: 85\n",
      "Sayı 80 ile 90 arasında\n",
      "Programınız sona ulaştı\n"
     ]
    }
   ],
   "source": [
    "x = int(input(\"0 ile 100 arasında bir sayı girin: \"))\n",
    "\n",
    "if x == 100:\n",
    "    print(\"Sayı 100\")\n",
    "\n",
    "elif x >= 90:\n",
    "    print(\"Sayı 90 ile 100 arasında\")\n",
    "\n",
    "elif x >= 80:\n",
    "    print(\"Sayı 80 ile 90 arasında\")\n",
    "    \n",
    "else:\n",
    "    print(\"Sayı 80'den küçük\")\n",
    "    \n",
    "print(\"Programınız sona ulaştı\")"
   ]
  },
  {
   "cell_type": "code",
   "execution_count": 29,
   "id": "4a1e42f0",
   "metadata": {},
   "outputs": [
    {
     "name": "stdout",
     "output_type": "stream",
     "text": [
      "0 ile 100 arasında bir sayı girin: 75\n",
      "Sayı 80'den küçük\n",
      "Programınız sona ulaştı\n"
     ]
    }
   ],
   "source": [
    "x = int(input(\"0 ile 100 arasında bir sayı girin: \"))\n",
    "\n",
    "if x == 100:\n",
    "    print(\"Sayı 100\")\n",
    "\n",
    "elif x >= 90:\n",
    "    print(\"Sayı 90 ile 100 arasında\")\n",
    "\n",
    "elif x >= 80:\n",
    "    print(\"Sayı 80 ile 90 arasında\")\n",
    "    \n",
    "else:\n",
    "    print(\"Sayı 80'den küçük\")\n",
    "    \n",
    "print(\"Programınız sona ulaştı\")"
   ]
  },
  {
   "cell_type": "markdown",
   "id": "63b49714",
   "metadata": {},
   "source": [
    "## Nested if\n",
    "if, elif ve else bloğunun içine yazdığımız kod normal koddan farklı değil, o yüzden bunların içine de ayrıca if, elif ve else yazabiliriz."
   ]
  },
  {
   "cell_type": "code",
   "execution_count": 30,
   "id": "75cd14bb",
   "metadata": {},
   "outputs": [
    {
     "name": "stdout",
     "output_type": "stream",
     "text": [
      "Bir sayı girin: 12\n",
      "Sayı hem 2'ye hem de 3'e bölünüyor\n",
      "Programınız sona ulaştı\n"
     ]
    }
   ],
   "source": [
    "x = int(input(\"Bir sayı girin: \"))\n",
    "\n",
    "if x % 3 == 0:\n",
    "    if x % 2 == 0:\n",
    "        print(\"Sayı hem 2'ye hem de 3'e bölünüyor\")\n",
    "    else:\n",
    "        print(\"Sayı 3'e bölünüyor ama 2'ye bölünmüyor\")\n",
    "\n",
    "else:\n",
    "    \n",
    "    print(\"3'e bölünmüyor\")\n",
    "    \n",
    "print(\"Programınız sona ulaştı\")"
   ]
  },
  {
   "cell_type": "code",
   "execution_count": 2,
   "id": "53cc7c94",
   "metadata": {},
   "outputs": [
    {
     "name": "stdout",
     "output_type": "stream",
     "text": [
      "bir sayı girin:9\n",
      "sayı 3'e tam bölünür\n",
      "Programınız sona ulaştı\n"
     ]
    }
   ],
   "source": [
    "x = int(input(\"bir sayı girin:\"))\n",
    "\n",
    "if x % 3 == 0 :\n",
    "    if x % 2 == 0 :\n",
    "        print(\"sayı hem 2'ye hem 3'e tam bölünür\")\n",
    "    else :\n",
    "        print(\"sayı 3'e tam bölünür\")\n",
    "        \n",
    "else : \n",
    "    print(\"sayı 3'e tam bölünmez\")\n",
    "    \n",
    "print(\"Programınız sona ulaştı\")\n"
   ]
  },
  {
   "cell_type": "code",
   "execution_count": 3,
   "id": "6b3e26f7",
   "metadata": {},
   "outputs": [
    {
     "name": "stdout",
     "output_type": "stream",
     "text": [
      "bir sayı girin:8\n",
      "sayı 3'e tam bölünmez\n",
      "Programınız sona ulaştı\n"
     ]
    }
   ],
   "source": [
    "x = int(input(\"bir sayı girin:\"))\n",
    "\n",
    "if x % 3 == 0 :\n",
    "    if x % 2 == 0 :\n",
    "        print(\"sayı hem 2'ye hem 3'e tam bölünür\")\n",
    "    else :\n",
    "        print(\"sayı 3'e tam bölünür\")\n",
    "        \n",
    "else : \n",
    "    print(\"sayı 3'e tam bölünmez\")\n",
    "    \n",
    "print(\"Programınız sona ulaştı\")"
   ]
  },
  {
   "cell_type": "markdown",
   "id": "dacd643a",
   "metadata": {},
   "source": [
    "## Test Olarak Mantıksal Operatörleri Kullanmak"
   ]
  },
  {
   "cell_type": "code",
   "execution_count": 5,
   "id": "dd3d0f4f",
   "metadata": {},
   "outputs": [
    {
     "name": "stdout",
     "output_type": "stream",
     "text": [
      "bir sayı girin:9\n",
      "programınız sona ulaştı\n"
     ]
    }
   ],
   "source": [
    "x = int(input(\"bir sayı girin:\"))\n",
    "\n",
    "if (x % 3 == 0) and (x % 2 == 0):\n",
    "    print(\"sayı hem 2'ye hemde 3'e bölünür\")\n",
    "    \n",
    "print(\"programınız sona ulaştı\")"
   ]
  },
  {
   "cell_type": "code",
   "execution_count": 6,
   "id": "8ce8ece8",
   "metadata": {},
   "outputs": [
    {
     "name": "stdout",
     "output_type": "stream",
     "text": [
      "bir sayı girin:6\n",
      "sayı hem 2'ye hemde 3'e bölünür\n",
      "programınız sona ulaştı\n"
     ]
    }
   ],
   "source": [
    "x = int(input(\"bir sayı girin:\"))\n",
    "\n",
    "if (x % 3 == 0) and (x % 2 == 0):\n",
    "    print(\"sayı hem 2'ye hemde 3'e bölünür\")\n",
    "    \n",
    "print(\"programınız sona ulaştı\")"
   ]
  },
  {
   "cell_type": "code",
   "execution_count": 8,
   "id": "b1464ba4",
   "metadata": {},
   "outputs": [
    {
     "name": "stdout",
     "output_type": "stream",
     "text": [
      "bir sayı girin:8\n",
      "sayı 2 veya 3'den en az biri ile tam bölünür\n",
      "programınız sona ulaştı\n"
     ]
    }
   ],
   "source": [
    "x = int(input(\"bir sayı girin:\"))\n",
    "\n",
    "if (x % 2 == 0) or (x % 3 == 0):\n",
    "    print(\"sayı 2 veya 3'den en az biri ile tam bölünür\")\n",
    "    \n",
    "print(\"programınız sona ulaştı\")"
   ]
  },
  {
   "cell_type": "code",
   "execution_count": 9,
   "id": "4bfa5ae3",
   "metadata": {},
   "outputs": [
    {
     "name": "stdout",
     "output_type": "stream",
     "text": [
      "bir sayı girin:11\n",
      "programınız sona ulaştı\n"
     ]
    }
   ],
   "source": [
    "x = int(input(\"bir sayı girin:\"))\n",
    "\n",
    "if (x % 2 == 0) or (x % 3 == 0):\n",
    "    print(\"sayı 2 veya 3'den en az biri ile tam bölünür\")\n",
    "    \n",
    "print(\"programınız sona ulaştı\")"
   ]
  },
  {
   "cell_type": "markdown",
   "id": "bfd28bbb",
   "metadata": {},
   "source": [
    "## Ternary Conditionals\n",
    "\n",
    "\n",
    "Ternary Conditionals aslında daha önce yapamadığımız bir şeyi yapabilmemize olanak sağlamayacak. if-else mantığını tek satırda kullanıp döndürülecek, sonucu ona göre belirlememizi sağlayacak.\n",
    "\n",
    "\n",
    "Diyelim ki belirli bir durumu test edip, x değişkeninin değerini bu testin sonucuna göre belirlemek istiyorum. Soruya cevabım \"y\" olursa değeri 2'ye, yoksa 0'a eşitleyeceğim.\n"
   ]
  },
  {
   "cell_type": "code",
   "execution_count": 10,
   "id": "93684ac1",
   "metadata": {},
   "outputs": [
    {
     "name": "stdout",
     "output_type": "stream",
     "text": [
      "x in değeri 2 olsun mu? y/ny\n",
      "2\n"
     ]
    }
   ],
   "source": [
    "# cevap olarak \"y\" (yes->evet) veya \"n\"(no->hayır) vereceğiz\n",
    "cevap = input(\"x in değeri 2 olsun mu? y/n\")\n",
    "\n",
    "if cevap == \"y\": # cevap == \"y\" testimiz oluyor\n",
    "    x = 2\n",
    "else:\n",
    "    x = 0\n",
    "\n",
    "print(x)"
   ]
  },
  {
   "cell_type": "code",
   "execution_count": 11,
   "id": "dc9c0500",
   "metadata": {},
   "outputs": [
    {
     "name": "stdout",
     "output_type": "stream",
     "text": [
      "x in değeri 2 olsun mu? y/ny\n"
     ]
    }
   ],
   "source": [
    "cevap = input(\"x in değeri 2 olsun mu? y/n\")"
   ]
  },
  {
   "cell_type": "code",
   "execution_count": 12,
   "id": "5416402c",
   "metadata": {},
   "outputs": [],
   "source": [
    "x = 2 if cevap==\"y\" else 0"
   ]
  },
  {
   "cell_type": "code",
   "execution_count": 13,
   "id": "462b3e6d",
   "metadata": {},
   "outputs": [
    {
     "name": "stdout",
     "output_type": "stream",
     "text": [
      "2\n"
     ]
    }
   ],
   "source": [
    "print(x)"
   ]
  },
  {
   "cell_type": "markdown",
   "id": "8edf6206",
   "metadata": {},
   "source": [
    "Hatta daha düzenli bir şekilde:\n"
   ]
  },
  {
   "cell_type": "code",
   "execution_count": 14,
   "id": "41381fa1",
   "metadata": {},
   "outputs": [
    {
     "name": "stdout",
     "output_type": "stream",
     "text": [
      "x in değeri 2 olsun mu? y/ny\n"
     ]
    }
   ],
   "source": [
    "cevap = input(\"x in değeri 2 olsun mu? y/n\")"
   ]
  },
  {
   "cell_type": "code",
   "execution_count": 15,
   "id": "4b1d411b",
   "metadata": {},
   "outputs": [],
   "source": [
    "condition = cevap == \"y\""
   ]
  },
  {
   "cell_type": "code",
   "execution_count": 16,
   "id": "70c37305",
   "metadata": {},
   "outputs": [],
   "source": [
    "x = 2 if condition else 0"
   ]
  },
  {
   "cell_type": "code",
   "execution_count": 17,
   "id": "de8bc47d",
   "metadata": {},
   "outputs": [
    {
     "data": {
      "text/plain": [
       "2"
      ]
     },
     "execution_count": 17,
     "metadata": {},
     "output_type": "execute_result"
    }
   ],
   "source": [
    "x"
   ]
  },
  {
   "cell_type": "code",
   "execution_count": null,
   "id": "cb4037d1",
   "metadata": {},
   "outputs": [],
   "source": []
  }
 ],
 "metadata": {
  "kernelspec": {
   "display_name": "Python 3 (ipykernel)",
   "language": "python",
   "name": "python3"
  },
  "language_info": {
   "codemirror_mode": {
    "name": "ipython",
    "version": 3
   },
   "file_extension": ".py",
   "mimetype": "text/x-python",
   "name": "python",
   "nbconvert_exporter": "python",
   "pygments_lexer": "ipython3",
   "version": "3.9.12"
  }
 },
 "nbformat": 4,
 "nbformat_minor": 5
}
