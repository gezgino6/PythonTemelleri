{
 "cells": [
  {
   "cell_type": "markdown",
   "id": "7a8ab3b7",
   "metadata": {},
   "source": [
    "## While\n",
    "while döngüsünün içine yazdığım yapı belirttiğim ifade doğru olduğu süerce çalışacaktır."
   ]
  },
  {
   "cell_type": "code",
   "execution_count": 4,
   "id": "aa1cf951",
   "metadata": {},
   "outputs": [
    {
     "name": "stdout",
     "output_type": "stream",
     "text": [
      "bir sayı girin:-14\n",
      "sayı negatif, lütfen pozitif bir sayı girin\n",
      "bir sayı girin:-9\n",
      "sayı negatif, lütfen pozitif bir sayı girin\n",
      "bir sayı girin:23\n",
      "sayınız pozitif 23\n"
     ]
    }
   ],
   "source": [
    "x = int(input(\"bir sayı girin:\"))\n",
    "while x < 0 :\n",
    "    print(\"sayı negatif, lütfen pozitif bir sayı girin\")\n",
    "    x = int(input(\"bir sayı girin:\"))\n",
    "    \n",
    "print(\"sayınız pozitif\",x)"
   ]
  },
  {
   "cell_type": "code",
   "execution_count": 8,
   "id": "bd6ef216",
   "metadata": {},
   "outputs": [
    {
     "name": "stdout",
     "output_type": "stream",
     "text": [
      "5050\n"
     ]
    }
   ],
   "source": [
    "toplam = 0\n",
    "x = 0\n",
    "\n",
    "while x <= 100 :\n",
    "    toplam += x\n",
    "    x += 1\n",
    "    \n",
    "print(toplam)\n"
   ]
  },
  {
   "cell_type": "code",
   "execution_count": 9,
   "id": "4344b209",
   "metadata": {},
   "outputs": [],
   "source": [
    "## toplam += x demek toplamın değerini x kadar artır."
   ]
  },
  {
   "cell_type": "markdown",
   "id": "99bd0eb6",
   "metadata": {},
   "source": [
    "## for\n",
    "\n",
    "\n",
    "for döngüsü in'den sonra yazdığımız yapının bütün değerleri üzerinde dolanıp, eleman sayısı kadar içindeki kodu çalıştıracak. x in <obje> yapısı ile tanımlandığında, x döngünün her adımında in den sonra tanımlanan yapının elemanlarının değerlerini alacak.\n",
    "\n",
    "\n",
    "for <değişken> in <obje>\n",
    "\n",
    "\n",
    "\n",
    "for döngüsünün en başında <değişken>, <obje>'nin ilk elemanının değerini alıyor. İçindeki kod 1 kere çalışıp bittikten sonra ikinci kere çalıştırıyor ve <değişken>, <obje>'nin ikinci elemanının değerini alıyor. Bu <obje>'nin tüm elemanları bitene kadar devam ediyor."
   ]
  },
  {
   "cell_type": "code",
   "execution_count": 12,
   "id": "0a64335b",
   "metadata": {},
   "outputs": [
    {
     "name": "stdout",
     "output_type": "stream",
     "text": [
      "h\n",
      "e\n",
      "y\n"
     ]
    }
   ],
   "source": [
    "for c in \"hey\":\n",
    "    print(c)\n"
   ]
  },
  {
   "cell_type": "code",
   "execution_count": 14,
   "id": "5fad11be",
   "metadata": {},
   "outputs": [
    {
     "name": "stdout",
     "output_type": "stream",
     "text": [
      "5050\n"
     ]
    }
   ],
   "source": [
    "toplam = 0\n",
    "for x in range(101):\n",
    "    toplam += x\n",
    "    \n",
    "print(toplam)"
   ]
  },
  {
   "cell_type": "code",
   "execution_count": 15,
   "id": "2f4c85f8",
   "metadata": {},
   "outputs": [
    {
     "name": "stdout",
     "output_type": "stream",
     "text": [
      "0\n",
      "1\n",
      "2\n",
      "3\n",
      "4\n"
     ]
    }
   ],
   "source": [
    "for x in range(5):\n",
    "    print(x)"
   ]
  },
  {
   "cell_type": "code",
   "execution_count": 18,
   "id": "8ff30ad8",
   "metadata": {},
   "outputs": [
    {
     "name": "stdout",
     "output_type": "stream",
     "text": [
      "3125\n"
     ]
    }
   ],
   "source": [
    "toplam = 1\n",
    "for x in range(5):\n",
    "    toplam *= 5\n",
    "print(toplam)"
   ]
  },
  {
   "cell_type": "code",
   "execution_count": 19,
   "id": "49431f41",
   "metadata": {},
   "outputs": [
    {
     "name": "stdout",
     "output_type": "stream",
     "text": [
      "3125\n"
     ]
    }
   ],
   "source": [
    "toplam = 1\n",
    "for _ in range(5):\n",
    "    toplam *= 5\n",
    "print(toplam)"
   ]
  },
  {
   "cell_type": "markdown",
   "id": "293a017e",
   "metadata": {},
   "source": [
    "## for vs while\n",
    "while yapısında kaç kere iterasyon yapacağımızı bilmiyoruz, for'da eleman sayısı kadar iterasyon var. (break veya continue ile bölünmezse)\n",
    "\n",
    "\n",
    "Aslında for döngüsünü while döngüsünü kullanarak yazabiliriz, ama while döngüsünü for kullanarak yazamayız, çünkü for'da test mekanizması yok."
   ]
  },
  {
   "cell_type": "code",
   "execution_count": 20,
   "id": "02e1cd8f",
   "metadata": {},
   "outputs": [
    {
     "name": "stdout",
     "output_type": "stream",
     "text": [
      "h\n",
      "e\n",
      "y\n"
     ]
    }
   ],
   "source": [
    "s = \"hey\"\n",
    "for c in s:\n",
    "    print(c)"
   ]
  },
  {
   "cell_type": "code",
   "execution_count": 21,
   "id": "b99efc4e",
   "metadata": {},
   "outputs": [
    {
     "name": "stdout",
     "output_type": "stream",
     "text": [
      "h\n",
      "e\n",
      "y\n"
     ]
    }
   ],
   "source": [
    "n = len(s)\n",
    "index = 0\n",
    "\n",
    "while index < n:\n",
    "        print(s[index])\n",
    "        index += 1"
   ]
  },
  {
   "cell_type": "markdown",
   "id": "57f01121",
   "metadata": {},
   "source": [
    "## break\n",
    "\n",
    "\n",
    "Belki bir şart sağlandığı zaman döngüden aniden çıkmak istersek, bunu break ile sağlıyoruz.\n",
    "\n",
    "\n",
    "break komutunu gördüğümüz yerde döngüden çıkıyoruz."
   ]
  },
  {
   "cell_type": "code",
   "execution_count": 35,
   "id": "7c2cce9d",
   "metadata": {},
   "outputs": [
    {
     "name": "stdout",
     "output_type": "stream",
     "text": [
      "0\n",
      "1\n",
      "2\n"
     ]
    }
   ],
   "source": [
    "for x in range(10):\n",
    "    if x == 3:\n",
    "        break \n",
    "    print(x)"
   ]
  },
  {
   "cell_type": "code",
   "execution_count": 37,
   "id": "fd9139b9",
   "metadata": {},
   "outputs": [
    {
     "name": "stdout",
     "output_type": "stream",
     "text": [
      "0\n",
      "1\n",
      "2\n"
     ]
    }
   ],
   "source": [
    "x = 0\n",
    "while x < 10 :\n",
    "    print(x)\n",
    "    x+= 1\n",
    "    if x == 3 :\n",
    "        break\n"
   ]
  },
  {
   "cell_type": "markdown",
   "id": "42a4fa2a",
   "metadata": {},
   "source": [
    "## continue\n",
    "\n",
    "\n",
    "Bazen döngülerde bir şart sağlandığında bir sonraki iterasyondan devam etmek isteyebilirim. Bunu continue ile sağlayacağız.\n",
    "\n",
    "\n",
    "continue komutu ile karşılaşıldığı zaman, döngünün bir sonraki iterasyonuna geçilir."
   ]
  },
  {
   "cell_type": "code",
   "execution_count": 38,
   "id": "2c5527db",
   "metadata": {},
   "outputs": [
    {
     "ename": "SyntaxError",
     "evalue": "invalid syntax (3155955235.py, line 6)",
     "output_type": "error",
     "traceback": [
      "\u001b[1;36m  Input \u001b[1;32mIn [38]\u001b[1;36m\u001b[0m\n\u001b[1;33m    i=i+1```\u001b[0m\n\u001b[1;37m         ^\u001b[0m\n\u001b[1;31mSyntaxError\u001b[0m\u001b[1;31m:\u001b[0m invalid syntax\n"
     ]
    }
   ],
   "source": [
    "i=0\n",
    "while(i<10):\n",
    "    if(i==3 or i==5):\n",
    "      continue\n",
    "    print(\"i: \",i)\n",
    "    i=i+1```"
   ]
  },
  {
   "cell_type": "code",
   "execution_count": 44,
   "id": "8b789b6d",
   "metadata": {},
   "outputs": [
    {
     "name": "stdout",
     "output_type": "stream",
     "text": [
      "0\n",
      "1\n",
      "2\n",
      "hey\n",
      "4\n",
      "5\n",
      "6\n",
      "7\n",
      "8\n",
      "9\n",
      "merhaba\n"
     ]
    }
   ],
   "source": [
    "for i in range(10):\n",
    "    \n",
    "    if i == 3 :\n",
    "        print(\"hey\")\n",
    "        continue\n",
    "    print(i)\n",
    "print(\"merhaba\")"
   ]
  },
  {
   "cell_type": "code",
   "execution_count": 45,
   "id": "19c61355",
   "metadata": {},
   "outputs": [
    {
     "name": "stdout",
     "output_type": "stream",
     "text": [
      "1\n",
      "2\n",
      "4\n",
      "5\n",
      "6\n",
      "7\n",
      "8\n",
      "9\n",
      "10\n"
     ]
    }
   ],
   "source": [
    "x = 0\n",
    "while x < 10:\n",
    "    x += 1\n",
    "    if x == 3:\n",
    "        continue\n",
    "    print(x)"
   ]
  },
  {
   "cell_type": "code",
   "execution_count": null,
   "id": "e1622ab4",
   "metadata": {},
   "outputs": [],
   "source": [
    "\n",
    "  "
   ]
  },
  {
   "cell_type": "code",
   "execution_count": null,
   "id": "c8e7a0fb",
   "metadata": {},
   "outputs": [],
   "source": []
  },
  {
   "cell_type": "code",
   "execution_count": null,
   "id": "d1c90738",
   "metadata": {},
   "outputs": [],
   "source": []
  }
 ],
 "metadata": {
  "kernelspec": {
   "display_name": "Python 3 (ipykernel)",
   "language": "python",
   "name": "python3"
  },
  "language_info": {
   "codemirror_mode": {
    "name": "ipython",
    "version": 3
   },
   "file_extension": ".py",
   "mimetype": "text/x-python",
   "name": "python",
   "nbconvert_exporter": "python",
   "pygments_lexer": "ipython3",
   "version": "3.9.12"
  }
 },
 "nbformat": 4,
 "nbformat_minor": 5
}
