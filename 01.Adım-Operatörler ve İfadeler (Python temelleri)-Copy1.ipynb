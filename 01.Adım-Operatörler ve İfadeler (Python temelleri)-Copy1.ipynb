{
 "cells": [
  {
   "cell_type": "markdown",
   "id": "e4c28651",
   "metadata": {},
   "source": [
    "// operator (int division)\n",
    "\n",
    "\n",
    "Eğer işleme girenlerden biri bile float ise cevap float olur."
   ]
  },
  {
   "cell_type": "code",
   "execution_count": 1,
   "id": "c0ecd4ef",
   "metadata": {},
   "outputs": [
    {
     "data": {
      "text/plain": [
       "2"
      ]
     },
     "execution_count": 1,
     "metadata": {},
     "output_type": "execute_result"
    }
   ],
   "source": [
    "5//2"
   ]
  },
  {
   "cell_type": "code",
   "execution_count": 2,
   "id": "b98bc683",
   "metadata": {},
   "outputs": [
    {
     "data": {
      "text/plain": [
       "2.0"
      ]
     },
     "execution_count": 2,
     "metadata": {},
     "output_type": "execute_result"
    }
   ],
   "source": [
    "5//2.5"
   ]
  },
  {
   "cell_type": "code",
   "execution_count": 3,
   "id": "4b2f9f64",
   "metadata": {},
   "outputs": [
    {
     "data": {
      "text/plain": [
       "0.0"
      ]
     },
     "execution_count": 3,
     "metadata": {},
     "output_type": "execute_result"
    }
   ],
   "source": [
    "4.2//5"
   ]
  },
  {
   "cell_type": "code",
   "execution_count": 4,
   "id": "c429044b",
   "metadata": {},
   "outputs": [
    {
     "data": {
      "text/plain": [
       "1.0"
      ]
     },
     "execution_count": 4,
     "metadata": {},
     "output_type": "execute_result"
    }
   ],
   "source": [
    "8.2//5"
   ]
  },
  {
   "cell_type": "markdown",
   "id": "e2e4aba3",
   "metadata": {},
   "source": [
    "% operator (Remainder/kalan)\n",
    "\n",
    "\n",
    "Eğer kalan float ise cevap float olur yoksa integer olur."
   ]
  },
  {
   "cell_type": "code",
   "execution_count": 5,
   "id": "08245c1a",
   "metadata": {},
   "outputs": [
    {
     "data": {
      "text/plain": [
       "1"
      ]
     },
     "execution_count": 5,
     "metadata": {},
     "output_type": "execute_result"
    }
   ],
   "source": [
    "5%2"
   ]
  },
  {
   "cell_type": "code",
   "execution_count": 6,
   "id": "b0d37f98",
   "metadata": {},
   "outputs": [
    {
     "data": {
      "text/plain": [
       "1"
      ]
     },
     "execution_count": 6,
     "metadata": {},
     "output_type": "execute_result"
    }
   ],
   "source": [
    "10%3"
   ]
  },
  {
   "cell_type": "code",
   "execution_count": 7,
   "id": "240a5710",
   "metadata": {},
   "outputs": [
    {
     "data": {
      "text/plain": [
       "0.5"
      ]
     },
     "execution_count": 7,
     "metadata": {},
     "output_type": "execute_result"
    }
   ],
   "source": [
    "2.5%2"
   ]
  },
  {
   "cell_type": "markdown",
   "id": "4aca5be5",
   "metadata": {},
   "source": [
    "(**) operator\n",
    "\n",
    "\n",
    "Üst alma işlemi yapar."
   ]
  },
  {
   "cell_type": "code",
   "execution_count": 8,
   "id": "e8d6acb1",
   "metadata": {},
   "outputs": [
    {
     "data": {
      "text/plain": [
       "8"
      ]
     },
     "execution_count": 8,
     "metadata": {},
     "output_type": "execute_result"
    }
   ],
   "source": [
    "2**3"
   ]
  },
  {
   "cell_type": "code",
   "execution_count": 12,
   "id": "312811dc",
   "metadata": {},
   "outputs": [
    {
     "data": {
      "text/plain": [
       "9"
      ]
     },
     "execution_count": 12,
     "metadata": {},
     "output_type": "execute_result"
    }
   ],
   "source": [
    "3**2"
   ]
  },
  {
   "cell_type": "code",
   "execution_count": 13,
   "id": "69b71632",
   "metadata": {},
   "outputs": [
    {
     "data": {
      "text/plain": [
       "0.2"
      ]
     },
     "execution_count": 13,
     "metadata": {},
     "output_type": "execute_result"
    }
   ],
   "source": [
    "5**-1"
   ]
  },
  {
   "cell_type": "code",
   "execution_count": 10,
   "id": "8fd1af11",
   "metadata": {},
   "outputs": [
    {
     "data": {
      "text/plain": [
       "5.76"
      ]
     },
     "execution_count": 10,
     "metadata": {},
     "output_type": "execute_result"
    }
   ],
   "source": [
    "2.4**2"
   ]
  },
  {
   "cell_type": "markdown",
   "id": "272a244a",
   "metadata": {},
   "source": [
    "print()\n",
    "\n",
    "\n",
    "Bazen sadece bazı değerleri bastırmak isteriz, bunun için print() metodunu kullanabiliriz.\n"
   ]
  },
  {
   "cell_type": "code",
   "execution_count": 11,
   "id": "3224c961",
   "metadata": {},
   "outputs": [
    {
     "name": "stdout",
     "output_type": "stream",
     "text": [
      "5\n"
     ]
    }
   ],
   "source": [
    "print(5)"
   ]
  },
  {
   "cell_type": "code",
   "execution_count": null,
   "id": "a50da769",
   "metadata": {},
   "outputs": [],
   "source": []
  }
 ],
 "metadata": {
  "kernelspec": {
   "display_name": "Python 3 (ipykernel)",
   "language": "python",
   "name": "python3"
  },
  "language_info": {
   "codemirror_mode": {
    "name": "ipython",
    "version": 3
   },
   "file_extension": ".py",
   "mimetype": "text/x-python",
   "name": "python",
   "nbconvert_exporter": "python",
   "pygments_lexer": "ipython3",
   "version": "3.9.12"
  }
 },
 "nbformat": 4,
 "nbformat_minor": 5
}
