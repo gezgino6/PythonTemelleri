{
 "cells": [
  {
   "cell_type": "markdown",
   "id": "bbec409c",
   "metadata": {},
   "source": [
    "# Tuple\n",
    "\n",
    "\n",
    "tuple veri tipi listeler gibi birden çok veri tipini bir arada tutmamızı sağlar.\n",
    "\n",
    "\n",
    "listelerden farklı olarak tuple'lar immutabledır.\n",
    "\n",
    "\n",
    "Mesela bir deniz fenerinin konumunu belirtmek istiyoruz. bunun x ve y koordinat değerleri var (x,y). Deniz fenerini söküp götüremiyoruz, ben bu iki değerin sabit, değiştirilemez olmasını istiyorum. Burada bu iki değeri tutmak için tuple kullanmam mantıklı olabilir.\n",
    "\n",
    "\n",
    "Değişmeyeceğini bildiğim değerleri bir arada tutmak için.\n",
    "\n",
    "\n",
    "tuple'lar (element1,element2...) şeklinde tanımlanır.\n",
    "\n",
    "\n",
    "tuple'lar listeler gibi farklı veri yapılarında elemanlardan oluşabilir. Elemanları tuple bile olabilir.\n"
   ]
  },
  {
   "cell_type": "code",
   "execution_count": 1,
   "id": "c8f9e049",
   "metadata": {},
   "outputs": [],
   "source": [
    "x = 10\n",
    "y = 34"
   ]
  },
  {
   "cell_type": "code",
   "execution_count": 2,
   "id": "7351e6b4",
   "metadata": {},
   "outputs": [],
   "source": [
    "konum = (10,34)"
   ]
  },
  {
   "cell_type": "markdown",
   "id": "eeffe95d",
   "metadata": {},
   "source": [
    "Aynı listelerdeki gibi indexleme yapabiliyoruz."
   ]
  },
  {
   "cell_type": "code",
   "execution_count": 3,
   "id": "e11a8729",
   "metadata": {},
   "outputs": [
    {
     "data": {
      "text/plain": [
       "10"
      ]
     },
     "execution_count": 3,
     "metadata": {},
     "output_type": "execute_result"
    }
   ],
   "source": [
    "konum[0]"
   ]
  },
  {
   "cell_type": "code",
   "execution_count": 4,
   "id": "2c71060e",
   "metadata": {},
   "outputs": [
    {
     "data": {
      "text/plain": [
       "(10, 34)"
      ]
     },
     "execution_count": 4,
     "metadata": {},
     "output_type": "execute_result"
    }
   ],
   "source": [
    "konum[:]"
   ]
  },
  {
   "cell_type": "code",
   "execution_count": 6,
   "id": "7654116f",
   "metadata": {},
   "outputs": [],
   "source": [
    "# Ama değerlerini değiştiremiyoruz.\n",
    "# konum[0] = 100"
   ]
  },
  {
   "cell_type": "markdown",
   "id": "a7f9ecc8",
   "metadata": {},
   "source": [
    "Farklı veri tipleri barındırabiliyor"
   ]
  },
  {
   "cell_type": "code",
   "execution_count": 7,
   "id": "f9756dfe",
   "metadata": {},
   "outputs": [],
   "source": [
    "t = (1,2,3,\"a\")"
   ]
  },
  {
   "cell_type": "code",
   "execution_count": 10,
   "id": "bd1f3f4f",
   "metadata": {},
   "outputs": [],
   "source": [
    "t = ((1,2),3)"
   ]
  },
  {
   "cell_type": "code",
   "execution_count": 12,
   "id": "c05c415f",
   "metadata": {},
   "outputs": [
    {
     "data": {
      "text/plain": [
       "3"
      ]
     },
     "execution_count": 12,
     "metadata": {},
     "output_type": "execute_result"
    }
   ],
   "source": [
    "t[1]"
   ]
  },
  {
   "cell_type": "code",
   "execution_count": 13,
   "id": "2a275262",
   "metadata": {},
   "outputs": [],
   "source": [
    "t = ([1,2,3],2,(1,2))"
   ]
  },
  {
   "cell_type": "code",
   "execution_count": 14,
   "id": "4d6550e6",
   "metadata": {},
   "outputs": [],
   "source": [
    "t[0][0] = 23"
   ]
  },
  {
   "cell_type": "code",
   "execution_count": 15,
   "id": "966486fb",
   "metadata": {},
   "outputs": [
    {
     "data": {
      "text/plain": [
       "([23, 2, 3], 2, (1, 2))"
      ]
     },
     "execution_count": 15,
     "metadata": {},
     "output_type": "execute_result"
    }
   ],
   "source": [
    "t"
   ]
  },
  {
   "cell_type": "code",
   "execution_count": 16,
   "id": "8def0d51",
   "metadata": {},
   "outputs": [],
   "source": [
    "l = [[1,2,3],[10,20]]"
   ]
  },
  {
   "cell_type": "code",
   "execution_count": 17,
   "id": "5ef66569",
   "metadata": {},
   "outputs": [
    {
     "data": {
      "text/plain": [
       "2"
      ]
     },
     "execution_count": 17,
     "metadata": {},
     "output_type": "execute_result"
    }
   ],
   "source": [
    "l[0][1]"
   ]
  },
  {
   "cell_type": "markdown",
   "id": "42f5b6c6",
   "metadata": {},
   "source": [
    "# Elemanların Değerlerini Değiştirmek\n",
    "Diyelim ki x ve y'nin değerlerini değiştirmek istiyorum."
   ]
  },
  {
   "cell_type": "code",
   "execution_count": 18,
   "id": "1585e871",
   "metadata": {},
   "outputs": [],
   "source": [
    "x = 2\n",
    "y = 3"
   ]
  },
  {
   "cell_type": "code",
   "execution_count": 19,
   "id": "0b3ea5b2",
   "metadata": {},
   "outputs": [],
   "source": [
    "temp = x\n",
    "x = y\n",
    "y = temp"
   ]
  },
  {
   "cell_type": "code",
   "execution_count": 20,
   "id": "5f998ae8",
   "metadata": {},
   "outputs": [
    {
     "data": {
      "text/plain": [
       "3"
      ]
     },
     "execution_count": 20,
     "metadata": {},
     "output_type": "execute_result"
    }
   ],
   "source": [
    "x"
   ]
  },
  {
   "cell_type": "code",
   "execution_count": 21,
   "id": "d29c7fc9",
   "metadata": {},
   "outputs": [
    {
     "data": {
      "text/plain": [
       "2"
      ]
     },
     "execution_count": 21,
     "metadata": {},
     "output_type": "execute_result"
    }
   ],
   "source": [
    "y"
   ]
  },
  {
   "cell_type": "code",
   "execution_count": 22,
   "id": "3fcccb05",
   "metadata": {},
   "outputs": [],
   "source": [
    "x = 2\n",
    "y = 3"
   ]
  },
  {
   "cell_type": "code",
   "execution_count": 23,
   "id": "d2348859",
   "metadata": {},
   "outputs": [],
   "source": [
    "(x,y) = (y,x)"
   ]
  },
  {
   "cell_type": "code",
   "execution_count": 24,
   "id": "7d9103ed",
   "metadata": {},
   "outputs": [
    {
     "data": {
      "text/plain": [
       "3"
      ]
     },
     "execution_count": 24,
     "metadata": {},
     "output_type": "execute_result"
    }
   ],
   "source": [
    "x"
   ]
  },
  {
   "cell_type": "code",
   "execution_count": 25,
   "id": "c0eac754",
   "metadata": {},
   "outputs": [
    {
     "data": {
      "text/plain": [
       "2"
      ]
     },
     "execution_count": 25,
     "metadata": {},
     "output_type": "execute_result"
    }
   ],
   "source": [
    "y"
   ]
  },
  {
   "cell_type": "markdown",
   "id": "595a58d6",
   "metadata": {},
   "source": [
    "parantez koymamıza da gerek yok. 1,2,3,\"a\"... gibi parantezsiz belirtsek de Python onu tuple olarak görüyor."
   ]
  },
  {
   "cell_type": "code",
   "execution_count": 26,
   "id": "0b78e6bc",
   "metadata": {},
   "outputs": [
    {
     "data": {
      "text/plain": [
       "(1, 2, 3, 4)"
      ]
     },
     "execution_count": 26,
     "metadata": {},
     "output_type": "execute_result"
    }
   ],
   "source": [
    "1,2,3,4"
   ]
  },
  {
   "cell_type": "code",
   "execution_count": 27,
   "id": "f823975b",
   "metadata": {},
   "outputs": [],
   "source": [
    "a = 1,2,3,4"
   ]
  },
  {
   "cell_type": "code",
   "execution_count": 28,
   "id": "25a57d6d",
   "metadata": {},
   "outputs": [
    {
     "data": {
      "text/plain": [
       "(1, 2, 3, 4)"
      ]
     },
     "execution_count": 28,
     "metadata": {},
     "output_type": "execute_result"
    }
   ],
   "source": [
    "a"
   ]
  },
  {
   "cell_type": "code",
   "execution_count": 29,
   "id": "80e91afa",
   "metadata": {},
   "outputs": [
    {
     "data": {
      "text/plain": [
       "tuple"
      ]
     },
     "execution_count": 29,
     "metadata": {},
     "output_type": "execute_result"
    }
   ],
   "source": [
    "type(a)"
   ]
  },
  {
   "cell_type": "code",
   "execution_count": 30,
   "id": "3849c697",
   "metadata": {},
   "outputs": [],
   "source": [
    "x = 2\n",
    "y = 3"
   ]
  },
  {
   "cell_type": "code",
   "execution_count": 31,
   "id": "bf2970e5",
   "metadata": {},
   "outputs": [],
   "source": [
    "x,y=y,x"
   ]
  },
  {
   "cell_type": "code",
   "execution_count": 32,
   "id": "260839b6",
   "metadata": {},
   "outputs": [
    {
     "data": {
      "text/plain": [
       "3"
      ]
     },
     "execution_count": 32,
     "metadata": {},
     "output_type": "execute_result"
    }
   ],
   "source": [
    "x"
   ]
  },
  {
   "cell_type": "code",
   "execution_count": 33,
   "id": "aa4bb6d1",
   "metadata": {},
   "outputs": [
    {
     "data": {
      "text/plain": [
       "2"
      ]
     },
     "execution_count": 33,
     "metadata": {},
     "output_type": "execute_result"
    }
   ],
   "source": [
    "y"
   ]
  },
  {
   "cell_type": "code",
   "execution_count": 34,
   "id": "af780d26",
   "metadata": {},
   "outputs": [],
   "source": [
    "x = 2\n",
    "y = 3"
   ]
  },
  {
   "cell_type": "code",
   "execution_count": 35,
   "id": "af1ab00e",
   "metadata": {},
   "outputs": [],
   "source": [
    "[x,y] = [y,x]"
   ]
  },
  {
   "cell_type": "code",
   "execution_count": 36,
   "id": "2d6481bb",
   "metadata": {},
   "outputs": [
    {
     "data": {
      "text/plain": [
       "3"
      ]
     },
     "execution_count": 36,
     "metadata": {},
     "output_type": "execute_result"
    }
   ],
   "source": [
    "x\n"
   ]
  },
  {
   "cell_type": "code",
   "execution_count": 37,
   "id": "c28c49df",
   "metadata": {},
   "outputs": [
    {
     "data": {
      "text/plain": [
       "2"
      ]
     },
     "execution_count": 37,
     "metadata": {},
     "output_type": "execute_result"
    }
   ],
   "source": [
    "y"
   ]
  },
  {
   "cell_type": "code",
   "execution_count": 39,
   "id": "711a04ec",
   "metadata": {},
   "outputs": [],
   "source": [
    "x=5\n",
    "\n",
    "y=7"
   ]
  },
  {
   "cell_type": "code",
   "execution_count": 40,
   "id": "39e5495c",
   "metadata": {},
   "outputs": [],
   "source": [
    "temp=x\n",
    "\n",
    "y=temp"
   ]
  },
  {
   "cell_type": "code",
   "execution_count": 41,
   "id": "53037b76",
   "metadata": {},
   "outputs": [
    {
     "data": {
      "text/plain": [
       "(5, 5)"
      ]
     },
     "execution_count": 41,
     "metadata": {},
     "output_type": "execute_result"
    }
   ],
   "source": [
    "(x,y)"
   ]
  },
  {
   "cell_type": "code",
   "execution_count": null,
   "id": "e1bdb17e",
   "metadata": {},
   "outputs": [],
   "source": []
  }
 ],
 "metadata": {
  "kernelspec": {
   "display_name": "Python 3 (ipykernel)",
   "language": "python",
   "name": "python3"
  },
  "language_info": {
   "codemirror_mode": {
    "name": "ipython",
    "version": 3
   },
   "file_extension": ".py",
   "mimetype": "text/x-python",
   "name": "python",
   "nbconvert_exporter": "python",
   "pygments_lexer": "ipython3",
   "version": "3.9.12"
  }
 },
 "nbformat": 4,
 "nbformat_minor": 5
}
